{
 "cells": [
  {
   "cell_type": "markdown",
   "id": "f640645c",
   "metadata": {},
   "source": [
    "# Life of a Jupyter Notebook\n",
    "Clark Wood (clark@codeforgainesville.org)\n",
    "\n",
    "6 Oct 2022\n",
    "\n",
    "**Today we're going to discuss:**\n",
    "\n",
    "1. What are Jupyter notebooks?\n",
    "1. What are Python libraries?\n",
    "1. What is Python?\n",
    "1. What are executables?\n",
    "\n",
    "**Why?**\n",
    "\n",
    "Because computing is built on abstraction, so it's good to know more about your tools (especially how trustworthy they are).\n",
    "\n",
    "**But first!...**\n",
    "Run all of the cells up until the first exercise to clone and pre-build Python.\n",
    "\n",
    "You'll need `git`, `make`, and a C compiler (like `gcc`)."
   ]
  },
  {
   "cell_type": "code",
   "execution_count": null,
   "id": "d62e46ba",
   "metadata": {},
   "outputs": [],
   "source": [
    "!git clone https://github.com/python/cpython.git"
   ]
  },
  {
   "cell_type": "code",
   "execution_count": null,
   "id": "cd9ac01e",
   "metadata": {},
   "outputs": [],
   "source": [
    "%cd cpython\n",
    "!git checkout v3.10.7"
   ]
  },
  {
   "cell_type": "code",
   "execution_count": null,
   "id": "9e056d68",
   "metadata": {},
   "outputs": [],
   "source": [
    "%%time\n",
    "!./configure"
   ]
  },
  {
   "cell_type": "code",
   "execution_count": null,
   "id": "0fe45942",
   "metadata": {},
   "outputs": [],
   "source": [
    "%%time\n",
    "!make -j8"
   ]
  },
  {
   "cell_type": "code",
   "execution_count": null,
   "id": "5c5f94a9",
   "metadata": {
    "scrolled": true
   },
   "outputs": [],
   "source": [
    "# This file, or some other similar executable, should have been built\n",
    "!ls python.exe\n",
    "!file python.exe"
   ]
  },
  {
   "cell_type": "markdown",
   "id": "aa71701c",
   "metadata": {},
   "source": [
    "## Exercise 1: What is a Jupyter Notebook?\n",
    "What type of file is a Jupyter notebook?\n",
    "\n",
    "Modify the [Ex1.ipynb](Ex1.ipynb) file directly (outside of the Jupyter notebook/lab environment) and verify your change."
   ]
  },
  {
   "cell_type": "markdown",
   "id": "ea989a45",
   "metadata": {},
   "source": [
    "## Exercise 2: What is a Python Library?\n",
    "Create a Python virtual environment and install jupyter lab.\n",
    "\n",
    "What is inside the virtual environment? Which `python`, `pip`, etc are on your path?\n",
    "\n",
    "Modify the jupyter lab library and verify your changes"
   ]
  },
  {
   "cell_type": "code",
   "execution_count": null,
   "id": "c4d50439-d762-4cb4-b73d-0406f25ce7a5",
   "metadata": {},
   "outputs": [],
   "source": [
    "!cpython/python.exe -m venv venv2"
   ]
  },
  {
   "cell_type": "markdown",
   "id": "efc1c844-c9fd-45c8-af0e-05850a5d9b88",
   "metadata": {},
   "source": [
    "```bash\n",
    "# Activate the new venv and install jupyter lab\n",
    "source venv2/bin/activate\n",
    "pip install jupyterlab\n",
    "```"
   ]
  },
  {
   "cell_type": "markdown",
   "id": "08352b2a",
   "metadata": {},
   "source": [
    "## Exercise 3: What is Python?\n",
    "Modify Python source code (`cpython`), rebuild Python, and verify your change.\n",
    "\n",
    "**Hint:** Find all `.c` files that contain the `print` `builtin` function."
   ]
  },
  {
   "cell_type": "markdown",
   "id": "3ebf5ddc",
   "metadata": {},
   "source": [
    "## Future Work\n",
    "* https://www.rc.fas.harvard.edu/blog/security-advisory-03012021/\n",
    "* https://www.cs.cmu.edu/~rdriley/487/papers/Thompson_1984_ReflectionsonTrustingTrust.pdf\n"
   ]
  },
  {
   "cell_type": "markdown",
   "id": "19423185-921f-459b-b27f-1aff3738e543",
   "metadata": {},
   "source": [
    "# Code 4 Gainesville\n",
    "1. [Code 4 America](https://codeforamerica.org/)\n",
    "1. [Resource Finder](https://resource-finder-dev.onrender.com/)\n",
    "1. [Reimagine 911](https://codeforamerica.org/news/using-data-and-teamwork-to-reimagine-911/)\n",
    "1. [dataGNV](https://data.cityofgainesville.org/)"
   ]
  },
  {
   "cell_type": "code",
   "execution_count": null,
   "id": "a2e00834",
   "metadata": {},
   "outputs": [],
   "source": []
  }
 ],
 "metadata": {
  "kernelspec": {
   "display_name": "Python 3 (ipykernel)",
   "language": "python",
   "name": "python3"
  },
  "language_info": {
   "codemirror_mode": {
    "name": "ipython",
    "version": 3
   },
   "file_extension": ".py",
   "mimetype": "text/x-python",
   "name": "python",
   "nbconvert_exporter": "python",
   "pygments_lexer": "ipython3",
   "version": "3.10.6"
  }
 },
 "nbformat": 4,
 "nbformat_minor": 5
}
